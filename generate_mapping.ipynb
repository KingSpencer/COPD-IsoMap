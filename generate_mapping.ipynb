{
 "cells": [
  {
   "cell_type": "code",
   "execution_count": 1,
   "metadata": {},
   "outputs": [],
   "source": [
    "'''\n",
    "This is the notebook for finding mappings between exonic parts and transcripts\n",
    "For new dataset\n",
    "'''\n",
    "from csv import reader\n",
    "import pandas as pd\n",
    "import numpy as np\n",
    "import matplotlib.pyplot as plt\n",
    "import os\n",
    "import pickle"
   ]
  },
  {
   "cell_type": "code",
   "execution_count": 2,
   "metadata": {},
   "outputs": [
    {
     "name": "stderr",
     "output_type": "stream",
     "text": [
      "/home/zifeng/anaconda3/envs/py36/lib/python3.6/site-packages/IPython/core/interactiveshell.py:3058: DtypeWarning: Columns (2) have mixed types. Specify dtype option on import or set low_memory=False.\n",
      "  interactivity=interactivity, compiler=compiler, result=result)\n"
     ]
    }
   ],
   "source": [
    "data_dir = '../data/data_last'\n",
    "COPDGene_Freeze1_RNAseq_exonicParts = os.path.join(data_dir, 'COPDGene_Freeze3_RNAseq_exonicParts.csv')\n",
    "COPDGene_Freeze1_RNAseq_genes = os.path.join(data_dir, 'COPDGene_Freeze3_RNAseq_genes.csv')\n",
    "COPDGene_Freeze1_RNAseq_transcripts = os.path.join(data_dir, 'COPDGene_Freeze3_RNAseq_transcripts.csv')\n",
    "\n",
    "exonicParts = pd.read_csv(COPDGene_Freeze1_RNAseq_exonicParts)\n",
    "genes = pd.read_csv(COPDGene_Freeze1_RNAseq_genes)\n",
    "trans_tx = pd.read_csv(COPDGene_Freeze1_RNAseq_transcripts)\n",
    "\n",
    "mapping_dir = '../data/data_last'\n",
    "IDmapping = os.path.join(mapping_dir, 'HMG-2016-JH-00187_Huan_Fig1SupplTable2_IDmapping.csv')\n",
    "useful_gene = pd.read_csv(IDmapping)\n"
   ]
  },
  {
   "cell_type": "code",
   "execution_count": 4,
   "metadata": {},
   "outputs": [],
   "source": [
    "# this part is to generate exon, iso, gene mapping \n",
    "with open('./COPD/data/mapping_data_last/exon_list.pickle', 'rb') as f:\n",
    "    exon_list_loaded = pickle.load(f)"
   ]
  },
  {
   "cell_type": "code",
   "execution_count": 10,
   "metadata": {},
   "outputs": [],
   "source": [
    "selected_exon = exonicParts.loc[exon_list_loaded][['exon_name','tx_name','gene_id']]"
   ]
  },
  {
   "cell_type": "code",
   "execution_count": 13,
   "metadata": {},
   "outputs": [
    {
     "data": {
      "text/plain": [
       "0       ENSG00000224020\n",
       "1       ENSG00000095906\n",
       "2       ENSG00000139679\n",
       "3       ENSG00000132849\n",
       "4       ENSG00000205927\n",
       "             ...       \n",
       "1294    ENSG00000123146\n",
       "1295    ENSG00000198846\n",
       "1296    ENSG00000135763\n",
       "1297    ENSG00000163636\n",
       "1298    ENSG00000116688\n",
       "Name: gene_id, Length: 1299, dtype: object"
      ]
     },
     "execution_count": 13,
     "metadata": {},
     "output_type": "execute_result"
    }
   ],
   "source": [
    "useful_gene_new = useful_gene.rename(columns={'ensembl_gene_id': 'gene_id'})\n",
    "useful_gene_new.gene_id.astype(str)"
   ]
  },
  {
   "cell_type": "code",
   "execution_count": 14,
   "metadata": {},
   "outputs": [
    {
     "data": {
      "text/html": [
       "<div>\n",
       "<style scoped>\n",
       "    .dataframe tbody tr th:only-of-type {\n",
       "        vertical-align: middle;\n",
       "    }\n",
       "\n",
       "    .dataframe tbody tr th {\n",
       "        vertical-align: top;\n",
       "    }\n",
       "\n",
       "    .dataframe thead th {\n",
       "        text-align: right;\n",
       "    }\n",
       "</style>\n",
       "<table border=\"1\" class=\"dataframe\">\n",
       "  <thead>\n",
       "    <tr style=\"text-align: right;\">\n",
       "      <th></th>\n",
       "      <th>gene_id</th>\n",
       "      <th>entrezgene</th>\n",
       "      <th>gene_biotype</th>\n",
       "      <th>hgnc_symbol</th>\n",
       "      <th>external_gene_name</th>\n",
       "    </tr>\n",
       "  </thead>\n",
       "  <tbody>\n",
       "    <tr>\n",
       "      <td>0</td>\n",
       "      <td>ENSG00000224020</td>\n",
       "      <td>100379345</td>\n",
       "      <td>antisense</td>\n",
       "      <td>MIR181A2HG</td>\n",
       "      <td>MIR181A2HG</td>\n",
       "    </tr>\n",
       "    <tr>\n",
       "      <td>1</td>\n",
       "      <td>ENSG00000095906</td>\n",
       "      <td>10101</td>\n",
       "      <td>protein_coding</td>\n",
       "      <td>NUBP2</td>\n",
       "      <td>NUBP2</td>\n",
       "    </tr>\n",
       "    <tr>\n",
       "      <td>2</td>\n",
       "      <td>ENSG00000139679</td>\n",
       "      <td>10161</td>\n",
       "      <td>protein_coding</td>\n",
       "      <td>LPAR6</td>\n",
       "      <td>LPAR6</td>\n",
       "    </tr>\n",
       "    <tr>\n",
       "      <td>3</td>\n",
       "      <td>ENSG00000132849</td>\n",
       "      <td>10207</td>\n",
       "      <td>protein_coding</td>\n",
       "      <td>PATJ</td>\n",
       "      <td>PATJ</td>\n",
       "    </tr>\n",
       "    <tr>\n",
       "      <td>4</td>\n",
       "      <td>ENSG00000205927</td>\n",
       "      <td>10215</td>\n",
       "      <td>protein_coding</td>\n",
       "      <td>OLIG2</td>\n",
       "      <td>OLIG2</td>\n",
       "    </tr>\n",
       "    <tr>\n",
       "      <td>...</td>\n",
       "      <td>...</td>\n",
       "      <td>...</td>\n",
       "      <td>...</td>\n",
       "      <td>...</td>\n",
       "      <td>...</td>\n",
       "    </tr>\n",
       "    <tr>\n",
       "      <td>1294</td>\n",
       "      <td>ENSG00000123146</td>\n",
       "      <td>976</td>\n",
       "      <td>protein_coding</td>\n",
       "      <td>ADGRE5</td>\n",
       "      <td>ADGRE5</td>\n",
       "    </tr>\n",
       "    <tr>\n",
       "      <td>1295</td>\n",
       "      <td>ENSG00000198846</td>\n",
       "      <td>9760</td>\n",
       "      <td>protein_coding</td>\n",
       "      <td>TOX</td>\n",
       "      <td>TOX</td>\n",
       "    </tr>\n",
       "    <tr>\n",
       "      <td>1296</td>\n",
       "      <td>ENSG00000135763</td>\n",
       "      <td>9816</td>\n",
       "      <td>protein_coding</td>\n",
       "      <td>URB2</td>\n",
       "      <td>URB2</td>\n",
       "    </tr>\n",
       "    <tr>\n",
       "      <td>1297</td>\n",
       "      <td>ENSG00000163636</td>\n",
       "      <td>9861</td>\n",
       "      <td>protein_coding</td>\n",
       "      <td>PSMD6</td>\n",
       "      <td>PSMD6</td>\n",
       "    </tr>\n",
       "    <tr>\n",
       "      <td>1298</td>\n",
       "      <td>ENSG00000116688</td>\n",
       "      <td>9927</td>\n",
       "      <td>protein_coding</td>\n",
       "      <td>MFN2</td>\n",
       "      <td>MFN2</td>\n",
       "    </tr>\n",
       "  </tbody>\n",
       "</table>\n",
       "<p>1299 rows × 5 columns</p>\n",
       "</div>"
      ],
      "text/plain": [
       "              gene_id  entrezgene    gene_biotype hgnc_symbol  \\\n",
       "0     ENSG00000224020   100379345       antisense  MIR181A2HG   \n",
       "1     ENSG00000095906       10101  protein_coding       NUBP2   \n",
       "2     ENSG00000139679       10161  protein_coding       LPAR6   \n",
       "3     ENSG00000132849       10207  protein_coding        PATJ   \n",
       "4     ENSG00000205927       10215  protein_coding       OLIG2   \n",
       "...               ...         ...             ...         ...   \n",
       "1294  ENSG00000123146         976  protein_coding      ADGRE5   \n",
       "1295  ENSG00000198846        9760  protein_coding         TOX   \n",
       "1296  ENSG00000135763        9816  protein_coding        URB2   \n",
       "1297  ENSG00000163636        9861  protein_coding       PSMD6   \n",
       "1298  ENSG00000116688        9927  protein_coding        MFN2   \n",
       "\n",
       "     external_gene_name  \n",
       "0            MIR181A2HG  \n",
       "1                 NUBP2  \n",
       "2                 LPAR6  \n",
       "3                  PATJ  \n",
       "4                 OLIG2  \n",
       "...                 ...  \n",
       "1294             ADGRE5  \n",
       "1295                TOX  \n",
       "1296               URB2  \n",
       "1297              PSMD6  \n",
       "1298               MFN2  \n",
       "\n",
       "[1299 rows x 5 columns]"
      ]
     },
     "execution_count": 14,
     "metadata": {},
     "output_type": "execute_result"
    }
   ],
   "source": [
    "useful_gene_new"
   ]
  },
  {
   "cell_type": "code",
   "execution_count": 30,
   "metadata": {},
   "outputs": [],
   "source": [
    "gg = selected_exon.join(useful_gene_new[['gene_id', 'external_gene_name']].set_index('gene_id'), on='gene_id')"
   ]
  },
  {
   "cell_type": "code",
   "execution_count": 48,
   "metadata": {},
   "outputs": [],
   "source": [
    "gg.to_csv('exon_tx_gene_mapping.csv', index=False)"
   ]
  },
  {
   "cell_type": "code",
   "execution_count": 38,
   "metadata": {},
   "outputs": [
    {
     "data": {
      "text/plain": [
       "1035"
      ]
     },
     "execution_count": 38,
     "metadata": {},
     "output_type": "execute_result"
    }
   ],
   "source": [
    "len(set(list(gg['external_gene_name'])))"
   ]
  },
  {
   "cell_type": "code",
   "execution_count": 3,
   "metadata": {},
   "outputs": [
    {
     "data": {
      "text/html": [
       "<div>\n",
       "<style scoped>\n",
       "    .dataframe tbody tr th:only-of-type {\n",
       "        vertical-align: middle;\n",
       "    }\n",
       "\n",
       "    .dataframe tbody tr th {\n",
       "        vertical-align: top;\n",
       "    }\n",
       "\n",
       "    .dataframe thead th {\n",
       "        text-align: right;\n",
       "    }\n",
       "</style>\n",
       "<table border=\"1\" class=\"dataframe\">\n",
       "  <thead>\n",
       "    <tr style=\"text-align: right;\">\n",
       "      <th></th>\n",
       "      <th>ensembl_gene_id</th>\n",
       "      <th>entrezgene</th>\n",
       "      <th>gene_biotype</th>\n",
       "      <th>hgnc_symbol</th>\n",
       "      <th>external_gene_name</th>\n",
       "    </tr>\n",
       "  </thead>\n",
       "  <tbody>\n",
       "    <tr>\n",
       "      <td>0</td>\n",
       "      <td>ENSG00000224020</td>\n",
       "      <td>100379345</td>\n",
       "      <td>antisense</td>\n",
       "      <td>MIR181A2HG</td>\n",
       "      <td>MIR181A2HG</td>\n",
       "    </tr>\n",
       "    <tr>\n",
       "      <td>1</td>\n",
       "      <td>ENSG00000095906</td>\n",
       "      <td>10101</td>\n",
       "      <td>protein_coding</td>\n",
       "      <td>NUBP2</td>\n",
       "      <td>NUBP2</td>\n",
       "    </tr>\n",
       "    <tr>\n",
       "      <td>2</td>\n",
       "      <td>ENSG00000139679</td>\n",
       "      <td>10161</td>\n",
       "      <td>protein_coding</td>\n",
       "      <td>LPAR6</td>\n",
       "      <td>LPAR6</td>\n",
       "    </tr>\n",
       "    <tr>\n",
       "      <td>3</td>\n",
       "      <td>ENSG00000132849</td>\n",
       "      <td>10207</td>\n",
       "      <td>protein_coding</td>\n",
       "      <td>PATJ</td>\n",
       "      <td>PATJ</td>\n",
       "    </tr>\n",
       "    <tr>\n",
       "      <td>4</td>\n",
       "      <td>ENSG00000205927</td>\n",
       "      <td>10215</td>\n",
       "      <td>protein_coding</td>\n",
       "      <td>OLIG2</td>\n",
       "      <td>OLIG2</td>\n",
       "    </tr>\n",
       "  </tbody>\n",
       "</table>\n",
       "</div>"
      ],
      "text/plain": [
       "   ensembl_gene_id  entrezgene    gene_biotype hgnc_symbol external_gene_name\n",
       "0  ENSG00000224020   100379345       antisense  MIR181A2HG         MIR181A2HG\n",
       "1  ENSG00000095906       10101  protein_coding       NUBP2              NUBP2\n",
       "2  ENSG00000139679       10161  protein_coding       LPAR6              LPAR6\n",
       "3  ENSG00000132849       10207  protein_coding        PATJ               PATJ\n",
       "4  ENSG00000205927       10215  protein_coding       OLIG2              OLIG2"
      ]
     },
     "execution_count": 3,
     "metadata": {},
     "output_type": "execute_result"
    }
   ],
   "source": [
    "useful_gene.head(5)"
   ]
  },
  {
   "cell_type": "code",
   "execution_count": 4,
   "metadata": {},
   "outputs": [
    {
     "data": {
      "text/html": [
       "<div>\n",
       "<style scoped>\n",
       "    .dataframe tbody tr th:only-of-type {\n",
       "        vertical-align: middle;\n",
       "    }\n",
       "\n",
       "    .dataframe tbody tr th {\n",
       "        vertical-align: top;\n",
       "    }\n",
       "\n",
       "    .dataframe thead th {\n",
       "        text-align: right;\n",
       "    }\n",
       "</style>\n",
       "<table border=\"1\" class=\"dataframe\">\n",
       "  <thead>\n",
       "    <tr style=\"text-align: right;\">\n",
       "      <th></th>\n",
       "      <th>id</th>\n",
       "      <th>gene_id</th>\n",
       "      <th>chr</th>\n",
       "      <th>strand</th>\n",
       "      <th>start</th>\n",
       "      <th>end</th>\n",
       "      <th>tx_name</th>\n",
       "      <th>exon_name</th>\n",
       "    </tr>\n",
       "  </thead>\n",
       "  <tbody>\n",
       "    <tr>\n",
       "      <td>0</td>\n",
       "      <td>59061</td>\n",
       "      <td>ENSG00000225972</td>\n",
       "      <td>1</td>\n",
       "      <td>+</td>\n",
       "      <td>629062</td>\n",
       "      <td>629433</td>\n",
       "      <td>ENST00000416931</td>\n",
       "      <td>ENSE00001797039</td>\n",
       "    </tr>\n",
       "    <tr>\n",
       "      <td>1</td>\n",
       "      <td>59062</td>\n",
       "      <td>ENSG00000225630</td>\n",
       "      <td>1</td>\n",
       "      <td>+</td>\n",
       "      <td>629640</td>\n",
       "      <td>630683</td>\n",
       "      <td>ENST00000457540</td>\n",
       "      <td>ENSE00001780589</td>\n",
       "    </tr>\n",
       "    <tr>\n",
       "      <td>2</td>\n",
       "      <td>59063</td>\n",
       "      <td>ENSG00000237973</td>\n",
       "      <td>1</td>\n",
       "      <td>+</td>\n",
       "      <td>631074</td>\n",
       "      <td>632616</td>\n",
       "      <td>ENST00000414273</td>\n",
       "      <td>ENSE00001795950</td>\n",
       "    </tr>\n",
       "    <tr>\n",
       "      <td>3</td>\n",
       "      <td>59066</td>\n",
       "      <td>ENSG00000248527</td>\n",
       "      <td>1</td>\n",
       "      <td>+</td>\n",
       "      <td>633742</td>\n",
       "      <td>634375</td>\n",
       "      <td>ENST00000514057</td>\n",
       "      <td>ENSE00002056229</td>\n",
       "    </tr>\n",
       "    <tr>\n",
       "      <td>4</td>\n",
       "      <td>59067</td>\n",
       "      <td>ENSG00000198744</td>\n",
       "      <td>1</td>\n",
       "      <td>+</td>\n",
       "      <td>634377</td>\n",
       "      <td>634922</td>\n",
       "      <td>ENST00000416718</td>\n",
       "      <td>ENSE00001720008</td>\n",
       "    </tr>\n",
       "    <tr>\n",
       "      <td>...</td>\n",
       "      <td>...</td>\n",
       "      <td>...</td>\n",
       "      <td>...</td>\n",
       "      <td>...</td>\n",
       "      <td>...</td>\n",
       "      <td>...</td>\n",
       "      <td>...</td>\n",
       "      <td>...</td>\n",
       "    </tr>\n",
       "    <tr>\n",
       "      <td>254866</td>\n",
       "      <td>657573</td>\n",
       "      <td>ENSG00000276345</td>\n",
       "      <td>KI270721.1</td>\n",
       "      <td>+</td>\n",
       "      <td>11451</td>\n",
       "      <td>11802</td>\n",
       "      <td>ENST00000612848</td>\n",
       "      <td>ENSE00003740910</td>\n",
       "    </tr>\n",
       "    <tr>\n",
       "      <td>254867</td>\n",
       "      <td>657577</td>\n",
       "      <td>ENSG00000277856</td>\n",
       "      <td>KI270726.1</td>\n",
       "      <td>+</td>\n",
       "      <td>26241</td>\n",
       "      <td>26534</td>\n",
       "      <td>ENST00000619729</td>\n",
       "      <td>ENSE00003738911</td>\n",
       "    </tr>\n",
       "    <tr>\n",
       "      <td>254868</td>\n",
       "      <td>657578</td>\n",
       "      <td>ENSG00000275063</td>\n",
       "      <td>KI270726.1</td>\n",
       "      <td>+</td>\n",
       "      <td>41444</td>\n",
       "      <td>41489</td>\n",
       "      <td>ENST00000618003</td>\n",
       "      <td>ENSE00003729911</td>\n",
       "    </tr>\n",
       "    <tr>\n",
       "      <td>254869</td>\n",
       "      <td>657579</td>\n",
       "      <td>ENSG00000275063</td>\n",
       "      <td>KI270726.1</td>\n",
       "      <td>+</td>\n",
       "      <td>41572</td>\n",
       "      <td>41876</td>\n",
       "      <td>ENST00000618003</td>\n",
       "      <td>ENSE00003739162</td>\n",
       "    </tr>\n",
       "    <tr>\n",
       "      <td>254870</td>\n",
       "      <td>657586</td>\n",
       "      <td>ENSG00000278673</td>\n",
       "      <td>KI270727.1</td>\n",
       "      <td>-</td>\n",
       "      <td>21629</td>\n",
       "      <td>22392</td>\n",
       "      <td>ENST00000615005</td>\n",
       "      <td>ENSE00003717426</td>\n",
       "    </tr>\n",
       "  </tbody>\n",
       "</table>\n",
       "<p>254871 rows × 8 columns</p>\n",
       "</div>"
      ],
      "text/plain": [
       "            id          gene_id         chr strand   start     end  \\\n",
       "0        59061  ENSG00000225972           1      +  629062  629433   \n",
       "1        59062  ENSG00000225630           1      +  629640  630683   \n",
       "2        59063  ENSG00000237973           1      +  631074  632616   \n",
       "3        59066  ENSG00000248527           1      +  633742  634375   \n",
       "4        59067  ENSG00000198744           1      +  634377  634922   \n",
       "...        ...              ...         ...    ...     ...     ...   \n",
       "254866  657573  ENSG00000276345  KI270721.1      +   11451   11802   \n",
       "254867  657577  ENSG00000277856  KI270726.1      +   26241   26534   \n",
       "254868  657578  ENSG00000275063  KI270726.1      +   41444   41489   \n",
       "254869  657579  ENSG00000275063  KI270726.1      +   41572   41876   \n",
       "254870  657586  ENSG00000278673  KI270727.1      -   21629   22392   \n",
       "\n",
       "                tx_name        exon_name  \n",
       "0       ENST00000416931  ENSE00001797039  \n",
       "1       ENST00000457540  ENSE00001780589  \n",
       "2       ENST00000414273  ENSE00001795950  \n",
       "3       ENST00000514057  ENSE00002056229  \n",
       "4       ENST00000416718  ENSE00001720008  \n",
       "...                 ...              ...  \n",
       "254866  ENST00000612848  ENSE00003740910  \n",
       "254867  ENST00000619729  ENSE00003738911  \n",
       "254868  ENST00000618003  ENSE00003729911  \n",
       "254869  ENST00000618003  ENSE00003739162  \n",
       "254870  ENST00000615005  ENSE00003717426  \n",
       "\n",
       "[254871 rows x 8 columns]"
      ]
     },
     "execution_count": 4,
     "metadata": {},
     "output_type": "execute_result"
    }
   ],
   "source": [
    "exonicParts"
   ]
  },
  {
   "cell_type": "code",
   "execution_count": 5,
   "metadata": {},
   "outputs": [
    {
     "data": {
      "text/html": [
       "<div>\n",
       "<style scoped>\n",
       "    .dataframe tbody tr th:only-of-type {\n",
       "        vertical-align: middle;\n",
       "    }\n",
       "\n",
       "    .dataframe tbody tr th {\n",
       "        vertical-align: top;\n",
       "    }\n",
       "\n",
       "    .dataframe thead th {\n",
       "        text-align: right;\n",
       "    }\n",
       "</style>\n",
       "<table border=\"1\" class=\"dataframe\">\n",
       "  <thead>\n",
       "    <tr style=\"text-align: right;\">\n",
       "      <th></th>\n",
       "      <th>gene_id</th>\n",
       "    </tr>\n",
       "  </thead>\n",
       "  <tbody>\n",
       "    <tr>\n",
       "      <td>0</td>\n",
       "      <td>ENSG00000227232</td>\n",
       "    </tr>\n",
       "    <tr>\n",
       "      <td>1</td>\n",
       "      <td>ENSG00000278267</td>\n",
       "    </tr>\n",
       "    <tr>\n",
       "      <td>2</td>\n",
       "      <td>ENSG00000238009</td>\n",
       "    </tr>\n",
       "    <tr>\n",
       "      <td>3</td>\n",
       "      <td>ENSG00000268903</td>\n",
       "    </tr>\n",
       "    <tr>\n",
       "      <td>4</td>\n",
       "      <td>ENSG00000269981</td>\n",
       "    </tr>\n",
       "    <tr>\n",
       "      <td>...</td>\n",
       "      <td>...</td>\n",
       "    </tr>\n",
       "    <tr>\n",
       "      <td>21657</td>\n",
       "      <td>ENSG00000198695</td>\n",
       "    </tr>\n",
       "    <tr>\n",
       "      <td>21658</td>\n",
       "      <td>ENSG00000210194</td>\n",
       "    </tr>\n",
       "    <tr>\n",
       "      <td>21659</td>\n",
       "      <td>ENSG00000198727</td>\n",
       "    </tr>\n",
       "    <tr>\n",
       "      <td>21660</td>\n",
       "      <td>ENSG00000210195</td>\n",
       "    </tr>\n",
       "    <tr>\n",
       "      <td>21661</td>\n",
       "      <td>ENSG00000210196</td>\n",
       "    </tr>\n",
       "  </tbody>\n",
       "</table>\n",
       "<p>21662 rows × 1 columns</p>\n",
       "</div>"
      ],
      "text/plain": [
       "               gene_id\n",
       "0      ENSG00000227232\n",
       "1      ENSG00000278267\n",
       "2      ENSG00000238009\n",
       "3      ENSG00000268903\n",
       "4      ENSG00000269981\n",
       "...                ...\n",
       "21657  ENSG00000198695\n",
       "21658  ENSG00000210194\n",
       "21659  ENSG00000198727\n",
       "21660  ENSG00000210195\n",
       "21661  ENSG00000210196\n",
       "\n",
       "[21662 rows x 1 columns]"
      ]
     },
     "execution_count": 5,
     "metadata": {},
     "output_type": "execute_result"
    }
   ],
   "source": [
    "genes"
   ]
  },
  {
   "cell_type": "code",
   "execution_count": 6,
   "metadata": {},
   "outputs": [
    {
     "data": {
      "text/html": [
       "<div>\n",
       "<style scoped>\n",
       "    .dataframe tbody tr th:only-of-type {\n",
       "        vertical-align: middle;\n",
       "    }\n",
       "\n",
       "    .dataframe tbody tr th {\n",
       "        vertical-align: top;\n",
       "    }\n",
       "\n",
       "    .dataframe thead th {\n",
       "        text-align: right;\n",
       "    }\n",
       "</style>\n",
       "<table border=\"1\" class=\"dataframe\">\n",
       "  <thead>\n",
       "    <tr style=\"text-align: right;\">\n",
       "      <th></th>\n",
       "      <th>transcript_id</th>\n",
       "      <th>gene_id</th>\n",
       "    </tr>\n",
       "  </thead>\n",
       "  <tbody>\n",
       "    <tr>\n",
       "      <td>0</td>\n",
       "      <td>ENST00000390396</td>\n",
       "      <td>ENSG00000211749</td>\n",
       "    </tr>\n",
       "    <tr>\n",
       "      <td>1</td>\n",
       "      <td>ENST00000390400</td>\n",
       "      <td>ENSG00000211753</td>\n",
       "    </tr>\n",
       "    <tr>\n",
       "      <td>2</td>\n",
       "      <td>ENST00000621184</td>\n",
       "      <td>ENSG00000275158</td>\n",
       "    </tr>\n",
       "    <tr>\n",
       "      <td>3</td>\n",
       "      <td>ENST00000390372</td>\n",
       "      <td>ENSG00000211725</td>\n",
       "    </tr>\n",
       "    <tr>\n",
       "      <td>4</td>\n",
       "      <td>ENST00000390369</td>\n",
       "      <td>ENSG00000253409</td>\n",
       "    </tr>\n",
       "    <tr>\n",
       "      <td>...</td>\n",
       "      <td>...</td>\n",
       "      <td>...</td>\n",
       "    </tr>\n",
       "    <tr>\n",
       "      <td>84982</td>\n",
       "      <td>ENST00000485382</td>\n",
       "      <td>ENSG00000204790</td>\n",
       "    </tr>\n",
       "    <tr>\n",
       "      <td>84983</td>\n",
       "      <td>ENST00000383620</td>\n",
       "      <td>ENSG00000206341</td>\n",
       "    </tr>\n",
       "    <tr>\n",
       "      <td>84984</td>\n",
       "      <td>ENST00000617319</td>\n",
       "      <td>ENSG00000275318</td>\n",
       "    </tr>\n",
       "    <tr>\n",
       "      <td>84985</td>\n",
       "      <td>ENST00000634119</td>\n",
       "      <td>ENSG00000282109</td>\n",
       "    </tr>\n",
       "    <tr>\n",
       "      <td>84986</td>\n",
       "      <td>ENST00000631874</td>\n",
       "      <td>ENSG00000282068</td>\n",
       "    </tr>\n",
       "  </tbody>\n",
       "</table>\n",
       "<p>84987 rows × 2 columns</p>\n",
       "</div>"
      ],
      "text/plain": [
       "         transcript_id          gene_id\n",
       "0      ENST00000390396  ENSG00000211749\n",
       "1      ENST00000390400  ENSG00000211753\n",
       "2      ENST00000621184  ENSG00000275158\n",
       "3      ENST00000390372  ENSG00000211725\n",
       "4      ENST00000390369  ENSG00000253409\n",
       "...                ...              ...\n",
       "84982  ENST00000485382  ENSG00000204790\n",
       "84983  ENST00000383620  ENSG00000206341\n",
       "84984  ENST00000617319  ENSG00000275318\n",
       "84985  ENST00000634119  ENSG00000282109\n",
       "84986  ENST00000631874  ENSG00000282068\n",
       "\n",
       "[84987 rows x 2 columns]"
      ]
     },
     "execution_count": 6,
     "metadata": {},
     "output_type": "execute_result"
    }
   ],
   "source": [
    "trans_tx"
   ]
  },
  {
   "cell_type": "code",
   "execution_count": 26,
   "metadata": {},
   "outputs": [
    {
     "name": "stdout",
     "output_type": "stream",
     "text": [
      "1299\n",
      "1299\n"
     ]
    }
   ],
   "source": [
    "important_gene_list = useful_gene['ensembl_gene_id'].tolist()\n",
    "important_gene_list\n",
    "print(len(important_gene_list))\n",
    "print(len(set(important_gene_list)))"
   ]
  },
  {
   "cell_type": "code",
   "execution_count": 8,
   "metadata": {},
   "outputs": [
    {
     "name": "stdout",
     "output_type": "stream",
     "text": [
      "6559\n"
     ]
    }
   ],
   "source": [
    "tx_rows_to_get = trans_tx.loc[trans_tx['gene_id'].isin(important_gene_list)]\n",
    "tx_list = tx_rows_to_get.index.values.tolist()\n",
    "print(len(tx_list))\n",
    "#pickle.dump(tx_list, open(os.path.join('../mapping_data_last', 'tx_list.pickle'),'wb'))"
   ]
  },
  {
   "cell_type": "code",
   "execution_count": 10,
   "metadata": {},
   "outputs": [
    {
     "name": "stdout",
     "output_type": "stream",
     "text": [
      "1079\n"
     ]
    }
   ],
   "source": [
    "gene_rows_to_get = genes.loc[genes['gene_id'].isin(important_gene_list)]\n",
    "gene_list = gene_rows_to_get.index.values.tolist()\n",
    "print(len(gene_list))\n",
    "#pickle.dump(gene_list, open(os.path.join('../mapping_data_last', 'gene_list.pickle'),'wb'))"
   ]
  },
  {
   "cell_type": "code",
   "execution_count": 27,
   "metadata": {},
   "outputs": [
    {
     "name": "stdout",
     "output_type": "stream",
     "text": [
      "19284\n"
     ]
    }
   ],
   "source": [
    "rows_to_get = exonicParts.loc[exonicParts['gene_id'].isin(important_gene_list)]\n",
    "important_exon_list = rows_to_get.index.values.tolist()\n",
    "print(len(important_exon_list))\n",
    "#pickle.dump(important_exon_list, open(os.path.join('../mapping_data_last', 'exon_list.pickle'),'wb'))\n",
    "# here I want to save the indices"
   ]
  },
  {
   "cell_type": "code",
   "execution_count": 12,
   "metadata": {},
   "outputs": [
    {
     "name": "stdout",
     "output_type": "stream",
     "text": [
      "8924\n"
     ]
    }
   ],
   "source": [
    "# Then find the linking matrix\n",
    "tx_list_small = rows_to_get['tx_name'].tolist()\n",
    "transcripts_small = []\n",
    "for transcript in tx_list_small:\n",
    "    transcripts_small.extend(transcript.split('|'))\n",
    "    \n",
    "transcripts_distinct_small = set(transcripts_small)\n",
    "num_transcript = len(transcripts_distinct_small)\n",
    "print(num_transcript)"
   ]
  },
  {
   "cell_type": "code",
   "execution_count": 39,
   "metadata": {},
   "outputs": [],
   "source": [
    "# Then find the linking matrix\n",
    "tx_list_small = rows_to_get['tx_name'].tolist()\n",
    "transcripts_small = []\n",
    "for transcript in tx_list_small:\n",
    "    transcripts_small.extend(transcript.split('|'))\n",
    "    \n",
    "transcripts_distinct_small = set(transcripts_small)\n",
    "num_transcript = len(transcripts_distinct_small)\n",
    "num_exon = len(important_exon_list)\n",
    "linking_matrix = np.zeros((num_exon, num_transcript))\n",
    "trans_id = {}\n",
    "\n",
    "for i, item in enumerate(transcripts_distinct_small):\n",
    "    trans_id[item] = i\n",
    "    \n",
    "for i, transcript in enumerate(tx_list_small):\n",
    "    trans = transcript.split('|')\n",
    "    for tran in trans:\n",
    "        tran_id = trans_id[tran]\n",
    "        linking_matrix[i, tran_id] = 1\n",
    "        \n",
    "#pickle.dump(trans_id, open(os.path.join('../mapping_data_new', 'transcript_id.pickle'),'wb'))\n",
    "#pickle.dump(linking_matrix, open(os.path.join('../mapping_data_new', 'linking_matrix.pickle'),'wb'))"
   ]
  },
  {
   "cell_type": "code",
   "execution_count": 15,
   "metadata": {},
   "outputs": [
    {
     "name": "stdout",
     "output_type": "stream",
     "text": [
      "6196\n"
     ]
    }
   ],
   "source": [
    "rows_to_get_tx = trans_tx.loc[trans_tx['transcript_id'].isin(trans_id.keys())]\n",
    "important_tx_list_2 = rows_to_get_tx.index.values.tolist()\n",
    "print(len(important_tx_list_2))"
   ]
  },
  {
   "cell_type": "code",
   "execution_count": 16,
   "metadata": {},
   "outputs": [
    {
     "name": "stdout",
     "output_type": "stream",
     "text": [
      "(19284, 8924)\n"
     ]
    }
   ],
   "source": [
    "print(linking_matrix.shape)"
   ]
  },
  {
   "cell_type": "code",
   "execution_count": 17,
   "metadata": {},
   "outputs": [],
   "source": [
    "# map back to exonic ID\n",
    "important_tx = rows_to_get_tx['transcript_id'].tolist()\n",
    "important_tx_set = set(important_tx)\n",
    "# find important exonic ID\n",
    "# exonicParts.shape = (255124, 8)\n",
    "index_list=[]\n",
    "for i in range(254871):\n",
    "    tx_temp = exonicParts['tx_name'][i].split('|')\n",
    "    tx_temp = set(tx_temp)\n",
    "    if important_tx_set & tx_temp:\n",
    "        index_list.append(i)\n",
    "\n",
    "    "
   ]
  },
  {
   "cell_type": "code",
   "execution_count": 18,
   "metadata": {},
   "outputs": [],
   "source": [
    "# now get the real mapping matrix again\n",
    "    \n",
    "transcripts_distinct_small = important_tx_set\n",
    "num_transcript = len(transcripts_distinct_small)\n",
    "num_exon = len(index_list)\n",
    "linking_matrix = np.zeros((num_exon, num_transcript))\n",
    "trans_id = {}\n",
    "\n",
    "for i, item in enumerate(transcripts_distinct_small):\n",
    "    trans_id[item] = i\n",
    "    \n",
    "for i,real_id in enumerate(index_list):\n",
    "    trans = exonicParts['tx_name'][real_id].split('|')\n",
    "    for tran in trans:\n",
    "        if tran in transcripts_distinct_small:\n",
    "            tran_id = trans_id[tran]\n",
    "            linking_matrix[i, tran_id] = 1"
   ]
  },
  {
   "cell_type": "code",
   "execution_count": 19,
   "metadata": {},
   "outputs": [
    {
     "name": "stdout",
     "output_type": "stream",
     "text": [
      "(19027, 6196)\n"
     ]
    }
   ],
   "source": [
    "# this is for isoform-exon mapping\n",
    "print(linking_matrix.shape)\n",
    "save the new info somewhere\n",
    "pickle.dump(important_tx_list_2, open(os.path.join('../mapping_data_last', 'tx_list.pickle'),'wb'))\n",
    "pickle.dump(index_list, open(os.path.join('../mapping_data_last', 'exon_list.pickle'),'wb'))\n",
    "pickle.dump(linking_matrix, open(os.path.join('../mapping_data_last', 'linking_matrix.pickle'),'wb'))"
   ]
  },
  {
   "cell_type": "code",
   "execution_count": 21,
   "metadata": {},
   "outputs": [],
   "source": [
    "gg = exonicParts.loc[index_list]['gene_id'].values.astype(str)"
   ]
  },
  {
   "cell_type": "code",
   "execution_count": 22,
   "metadata": {},
   "outputs": [],
   "source": [
    "gg_list = gene_rows_to_get['gene_id'].values.astype(str)"
   ]
  },
  {
   "cell_type": "code",
   "execution_count": 23,
   "metadata": {},
   "outputs": [],
   "source": [
    "inverse_dict = {gg_list[i]:i for i in range(len(gg_list))}"
   ]
  },
  {
   "cell_type": "code",
   "execution_count": 24,
   "metadata": {},
   "outputs": [],
   "source": [
    "eg_linking_matrix = np.zeros((len(index_list), len(important_gene_list)))"
   ]
  },
  {
   "cell_type": "code",
   "execution_count": 25,
   "metadata": {},
   "outputs": [],
   "source": [
    "for i, g in enumerate(gg):\n",
    "    if g in inverse_dict:\n",
    "        eg_linking_matrix[i, inverse_dict[g]] = 1"
   ]
  },
  {
   "cell_type": "code",
   "execution_count": 26,
   "metadata": {},
   "outputs": [
    {
     "data": {
      "text/plain": [
       "(19027, 1299)"
      ]
     },
     "execution_count": 26,
     "metadata": {},
     "output_type": "execute_result"
    }
   ],
   "source": [
    "eg_linking_matrix.shape"
   ]
  },
  {
   "cell_type": "code",
   "execution_count": 27,
   "metadata": {},
   "outputs": [],
   "source": [
    "# this is for gene-exon mapping\n",
    "pickle.dump(eg_linking_matrix, open(os.path.join('../data/mapping_data_last', 'eg_linking_matrix.pickle'),'wb'))"
   ]
  }
 ],
 "metadata": {
  "kernelspec": {
   "display_name": "Python 3",
   "language": "python",
   "name": "python3"
  },
  "language_info": {
   "codemirror_mode": {
    "name": "ipython",
    "version": 3
   },
   "file_extension": ".py",
   "mimetype": "text/x-python",
   "name": "python",
   "nbconvert_exporter": "python",
   "pygments_lexer": "ipython3",
   "version": "3.6.9"
  }
 },
 "nbformat": 4,
 "nbformat_minor": 2
}
